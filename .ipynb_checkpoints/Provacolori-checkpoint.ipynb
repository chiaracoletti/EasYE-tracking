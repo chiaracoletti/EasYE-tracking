{
 "cells": [
  {
   "cell_type": "code",
   "execution_count": 3,
   "metadata": {
    "collapsed": false
   },
   "outputs": [
    {
     "name": "stderr",
     "output_type": "stream",
     "text": [
      "C:\\Users\\giada\\Anaconda3\\lib\\site-packages\\ipykernel\\__main__.py:38: DeprecationWarning: using a non-integer number instead of an integer will result in an error in the future\n",
      "C:\\Users\\giada\\Anaconda3\\lib\\site-packages\\ipykernel\\__main__.py:39: DeprecationWarning: using a non-integer number instead of an integer will result in an error in the future\n",
      "C:\\Users\\giada\\Anaconda3\\lib\\site-packages\\ipykernel\\__main__.py:55: DeprecationWarning: using a non-integer number instead of an integer will result in an error in the future\n"
     ]
    }
   ],
   "source": [
    "import cv2\n",
    "import numpy as np\n",
    "\n",
    "\n",
    "sc_fct = 1.1             \n",
    "min_neigh = 5              \n",
    "min_size_f = (30,30)      \n",
    "min_size_e = (10,10)      \n",
    "\n",
    "\n",
    "faceCascade = cv2.CascadeClassifier(\"haarcascade_frontalface_default.xml\")\n",
    "eyeCascade=cv2.CascadeClassifier(\"haarcascade_eye.xml\")\n",
    "\n",
    "\n",
    "video_capture = cv2.VideoCapture(0)\n",
    "cv2.namedWindow(\"Face and eyes\")\n",
    "\n",
    "\n",
    "while True:\n",
    "    \n",
    "    ret, frame = video_capture.read()\n",
    "   \n",
    "    if frame.shape:\n",
    "        gray = cv2.cvtColor(frame, cv2.COLOR_BGR2GRAY)\n",
    "    \n",
    "        faces = faceCascade.detectMultiScale(       \n",
    "        gray,\n",
    "        scaleFactor=sc_fct,\n",
    "        minNeighbors=min_neigh,\n",
    "        minSize=min_size_f\n",
    "        )\n",
    "\n",
    "    \n",
    " \n",
    "        for (x, y, w, h) in faces:\n",
    "            cv2.rectangle(frame,(x, y), (x+w, y+h), (0, 255, 0), 2)\n",
    "   \n",
    "            roi_gray=gray[y:y+h/2,x:x+w]\n",
    "            roi_color=frame[y:y+h/2,x:x+w]\n",
    "        \n",
    "      \n",
    "            eyes= eyeCascade.detectMultiScale(         \n",
    "        roi_gray,\n",
    "        scaleFactor=sc_fct,\n",
    "        minNeighbors=min_neigh,\n",
    "        minSize=min_size_e\n",
    "    )\n",
    "\n",
    "\n",
    "        # Disegnamo rettangoli attorno agli occhi.\n",
    "            for (ex, ey, ew, eh) in eyes:\n",
    "                cv2.rectangle(roi_color, (ex, ey), (ex+ew, ey+eh), (255, 191, 0), 2)\n",
    "            \n",
    "            #Definiamo nuove regioni di interesse.\n",
    "                roi_gray2=roi_gray[ey+(eh/3):ey+eh,ex:ex+ew]\n",
    "                roi_color2=roi_color[ey:ey+eh,ex:ex+ew]\n",
    "                #Si noti che dal rettangolo degli occhi è stata ricavata una sezione ancor più piccola che non ne comprende la zona superiore.\n",
    "                #Abbiamo preso questa decisione per evitare di incorrere in problematiche legate alla presenza di sopracciglia nel momento\n",
    "                #in cui avremmo dovuto riconoscere le zone scure dell'occhio.\n",
    "                \n",
    "                #definisco due array contenenti il valore massimo e minimo del colore che voglio ricercare.\n",
    "                lower=np.array([0])\n",
    "                upper=np.array([64])\n",
    "                #Si noti che ogni colore è identificato solo da un parametro(non da tre) perchè stiamo lavorando in scala di grigio.\n",
    "                #Ogni colore può essere dunque definito da un unico valore da 0 a 255.\n",
    "                \n",
    "                #Filtro la gamma di colori tra quelli indicati precedentemente nei due array limite.\n",
    "                mask = cv2.inRange(roi_gray2, lower, upper)\n",
    "                #La funzione mask permette di controllare se gli elementi dell'elemento input (roi_gray2) si trovano all'interno\n",
    "                #del range indicato tramite il secondo e il terzo parametro. L'output dela funzione mask è un array della stessa\n",
    "                #dimensione di quello d'input (nel nostro caso solo una regione dell'intero volto) in cui risultano evidenziate \n",
    "                #in bianco solo le zone che rientrano nei limiti imposti.\n",
    "                \n",
    "                \n",
    "                #Mostriamo a video la zona dell'occhio opportunamente modificata.\n",
    "                cv2.imshow('mask',mask)\n",
    "             \n",
    "                \n",
    "                #Mostriamo a video il video d'origine col riconoscimento di occhi e volto.\n",
    "                cv2.imshow('Face and eyes', frame)\n",
    "    if cv2.waitKey(1)==27:\n",
    "        break\n",
    "\n",
    "video_capture.release()\n",
    "cv2.destroyAllWindows()\n",
    "              "
   ]
  },
  {
   "cell_type": "code",
   "execution_count": null,
   "metadata": {
    "collapsed": true
   },
   "outputs": [],
   "source": []
  },
  {
   "cell_type": "code",
   "execution_count": null,
   "metadata": {
    "collapsed": true
   },
   "outputs": [],
   "source": []
  }
 ],
 "metadata": {
  "kernelspec": {
   "display_name": "Python 3",
   "language": "python",
   "name": "python3"
  },
  "language_info": {
   "codemirror_mode": {
    "name": "ipython",
    "version": 3
   },
   "file_extension": ".py",
   "mimetype": "text/x-python",
   "name": "python",
   "nbconvert_exporter": "python",
   "pygments_lexer": "ipython3",
   "version": "3.5.1"
  }
 },
 "nbformat": 4,
 "nbformat_minor": 0
}
