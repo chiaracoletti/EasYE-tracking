{
 "cells": [
  {
   "cell_type": "code",
   "execution_count": 5,
   "metadata": {
    "collapsed": false
   },
   "outputs": [
    {
     "name": "stderr",
     "output_type": "stream",
     "text": [
      "C:\\Users\\giada\\Anaconda3\\lib\\site-packages\\ipykernel\\__main__.py:81: FutureWarning: comparison to `None` will result in an elementwise object comparison in the future.\n"
     ]
    },
    {
     "data": {
      "image/png": "[encoded data removed]",
      "text/plain": [
       "<matplotlib.figure.Figure at 0x1f9dd71d860>"
      ]
     },
     "metadata": {},
     "output_type": "display_data"
    }
   ],
   "source": [
    "%matplotlib inline\n",
    "import matplotlib.pyplot as plt\n",
    "\n",
    "import cv2\n",
    "import numpy as np\n",
    "\n",
    "#Parameters setting:\n",
    "sc_fct = 1.1              #scaling factor\n",
    "min_neigh = 5             #minimum number of neighbours to identify an area as the specific object\n",
    "min_size_f = (30,30)      #smallest face dimensions accepted\n",
    "min_size_e = (10,10)      #smallest eye dimension accepted  \n",
    "mindist_c=30              #minimum distance between circles' centers\n",
    "dp_c=1                    #accumulator resolution factor\n",
    "param1_c=60               #specific parameter of the Hough Gradient detection method \n",
    "param2_c=20               #specific parameter of the Hough Gradient detection method\n",
    "minr_c=5                  #minimum circle radius accepted\n",
    "maxr_c=15                 #maximum circle radius accepted\n",
    "\n",
    "\n",
    "\n",
    "\n",
    "#Loading the cascade classifier files\n",
    "faceCascade = cv2.CascadeClassifier(\"haarcascade_frontalface_default.xml\")\n",
    "eyeCascade=cv2.CascadeClassifier(\"haarcascade_eye.xml\")\n",
    "\n",
    "#Capturing the video from the webcam and opening a window to display it\n",
    "video_capture = cv2.VideoCapture(0)\n",
    "cv2.namedWindow(\"Face and eyes\")\n",
    "\n",
    "#Saving the window dimensions\n",
    "x_dim=int(video_capture.get(3))\n",
    "y_dim=int(video_capture.get(4))\n",
    "\n",
    "while True:\n",
    "    #Capturing frames from the video\n",
    "    ret, frame = video_capture.read()\n",
    "    \n",
    "    #Converting the image from colour to grayscale\n",
    "    gray = cv2.cvtColor(frame, cv2.COLOR_BGR2GRAY)\n",
    "    \n",
    "    #Using the cascade classifier to identify faces in the video\n",
    "    faces = faceCascade.detectMultiScale(       \n",
    "        gray,\n",
    "        scaleFactor=sc_fct,\n",
    "        minNeighbors=min_neigh,\n",
    "        minSize=min_size_f\n",
    "        )\n",
    "    #'detectMultiscale' function returns a list of rectangles described by the upper left vertex and the two dimensions\n",
    "    \n",
    "    #Drawing rectangles recognised by the detectMultiscale function\n",
    "    for (x, y, w, h) in faces:\n",
    "            cv2.rectangle(frame,(x, y), (x+w, y+h), (0, 255, 0), 2)\n",
    "            \n",
    "            #Defining new regions of interest\n",
    "            roi_gray=gray[y:y+int(h/2),x:x+w]\n",
    "            roi_color=frame[y:y+int(h/2),x:x+w]\n",
    "        \n",
    "        #Using the cascade classifier to identify eyes within the new ROI just defined\n",
    "            eyes= eyeCascade.detectMultiScale(         \n",
    "                 roi_gray,\n",
    "                 scaleFactor=sc_fct,\n",
    "                 minNeighbors=min_neigh,\n",
    "                 minSize=min_size_e\n",
    "                 )\n",
    "\n",
    "\n",
    "            #Drawing rectangles returned by the detectMultiscale function\n",
    "            for (ex, ey, ew, eh) in eyes:\n",
    "                cv2.rectangle(roi_color, (ex, ey), (ex+ew, ey+eh), (255, 191, 0), 2)\n",
    "            \n",
    "                #Defining new regions of interest \n",
    "                roi_gray2=roi_gray[ey:ey+eh,ex:ex+ew]\n",
    "                roi_color2=roi_color[ey:ey+eh,ex:ex+ew]\n",
    "                \n",
    "                #Applying HoughCircles function to identify iris and pupil in the filtered image (HOUGH_GRADIENT is the method used)\n",
    "                circles = cv2.HoughCircles(roi_gray2,cv2.HOUGH_GRADIENT,dp=dp_c,minDist=mindist_c,\n",
    "                            param1=param1_c,param2=param2_c,minRadius=minr_c,maxRadius=maxr_c)\n",
    "                #The function returns a list of circles described by the centre coordinates and the radius\n",
    "                    \n",
    "                #Checking validity of the detected objects    \n",
    "                if(circles==None):\n",
    "                    continue\n",
    "                else:\n",
    "                #Coverting floats to integers to make values usable by the circle function\n",
    "                  circles = np.uint16(np.around(circles[0,:]))\n",
    "            \n",
    "                  #Drawing identified circles in the video\n",
    "                  for (x_c,y_c,r) in circles:\n",
    "                    cv2.circle(roi_color2,(x_c,y_c),r,(0,255,0),2)\n",
    "                    cv2.circle(roi_color2,(x_c,y_c),2,(0,0,255),3)\n",
    "                    \n",
    "                    #Creating a scatterplot with the eyes pupils' position through time\n",
    "                    plt.scatter(x+ex+x_c,y_dim-(y+ey+y_c), s=100, c='r',alpha=0.3)\n",
    "                    \n",
    "            \n",
    "    #Showing the filtered image and the webcam video\n",
    "    cv2.imshow('Face and eyes', frame)\n",
    "    \n",
    "    \n",
    "    #Breaking the while cicle when 'return' is pressed\n",
    "    if cv2.waitKey(1)==27:\n",
    "        break\n",
    "        \n",
    "        \n",
    "#Plotting the scatterplot        \n",
    "plt.axis([0,x_dim,0,y_dim])\n",
    "plt.draw()\n",
    "    \n",
    "#Closing al windows and turning webcams off\n",
    "video_capture.release()\n",
    "cv2.destroyAllWindows()"
   ]
  },
  {
   "cell_type": "code",
   "execution_count": null,
   "metadata": {
    "collapsed": true
   },
   "outputs": [],
   "source": []
  },
  {
   "cell_type": "code",
   "execution_count": null,
   "metadata": {
    "collapsed": true
   },
   "outputs": [],
   "source": []
  }
 ],
 "metadata": {
  "kernelspec": {
   "display_name": "Python 3",
   "language": "python",
   "name": "python3"
  },
  "language_info": {
   "codemirror_mode": {
    "name": "ipython",
    "version": 3
   },
   "file_extension": ".py",
   "mimetype": "text/x-python",
   "name": "python",
   "nbconvert_exporter": "python",
   "pygments_lexer": "ipython3",
   "version": "3.5.1"
  }
 },
 "nbformat": 4,
 "nbformat_minor": 0
}
