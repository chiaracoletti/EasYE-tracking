{
 "cells": [
  {
   "cell_type": "code",
   "execution_count": 1,
   "metadata": {
    "collapsed": false
   },
   "outputs": [
    {
     "name": "stderr",
     "output_type": "stream",
     "text": [
      "/Users/Chiara/anaconda/lib/python3.5/site-packages/ipykernel/__main__.py:51: DeprecationWarning: using a non-integer number instead of an integer will result in an error in the future\n",
      "/Users/Chiara/anaconda/lib/python3.5/site-packages/ipykernel/__main__.py:52: DeprecationWarning: using a non-integer number instead of an integer will result in an error in the future\n",
      "/Users/Chiara/anaconda/lib/python3.5/site-packages/ipykernel/__main__.py:68: DeprecationWarning: using a non-integer number instead of an integer will result in an error in the future\n",
      "/Users/Chiara/anaconda/lib/python3.5/site-packages/ipykernel/__main__.py:85: FutureWarning: comparison to `None` will result in an elementwise object comparison in the future.\n"
     ]
    },
    {
     "data": {
      "image/png": "[encoded data removed]",
      "text/plain": [
       "<matplotlib.figure.Figure at 0x10efd19e8>"
      ]
     },
     "metadata": {},
     "output_type": "display_data"
    }
   ],
   "source": [
    "%matplotlib inline\n",
    "import cv2\n",
    "import numpy as np\n",
    "import matplotlib.pyplot as plt\n",
    "\n",
    "#Parameters setting:\n",
    "sc_fct = 1.1            #scaling factor\n",
    "min_neigh = 10          #minimum number of neighbours to identify an area as the specific object\n",
    "min_size_f = (30,30)    #smallest face dimensions accepted\n",
    "min_size_e = (10,10)    #smallest eye dimension accepted  \n",
    "mindist_c=20            #minimum distance between circles' centers\n",
    "param1_c=30             #specific parameter of the Hough Gradient detection method \n",
    "param2_c=10             #specific parameter of the Hough Gradient detection method\n",
    "minr_c=10               #minimum circle radius accepted\n",
    "maxr_c=40               #maximum circle radius accepted\n",
    "dp_c=1                  #accumulator resolution factor\n",
    "\n",
    "#Loading the cascade classifier files\n",
    "faceCascade = cv2.CascadeClassifier(\"haarcascade_frontalface_default.xml\")\n",
    "eyeCascade=cv2.CascadeClassifier(\"haarcascade_eye.xml\")\n",
    "\n",
    "#Capturing the video from the webcam and opening a window to display it\n",
    "video_capture = cv2.VideoCapture(0)\n",
    "cv2.namedWindow(\"EasYE TRACKING\")\n",
    "\n",
    "#Saving the window dimensions\n",
    "x_dim = video_capture.get(3)\n",
    "y_dim = video_capture.get(4)\n",
    "\n",
    "\n",
    "while True:\n",
    "    #Capturing frames from the video\n",
    "    ret, frame = video_capture.read()\n",
    "    \n",
    "    #Converting the image from colour to grayscale\n",
    "    gray = cv2.cvtColor(frame, cv2.COLOR_BGR2GRAY)\n",
    "    \n",
    "    #Using the cascade clsiifier to identify faces in the video\n",
    "    faces = faceCascade.detectMultiScale(       \n",
    "        gray,\n",
    "        scaleFactor=sc_fct,\n",
    "        minNeighbors=min_neigh,\n",
    "        minSize=min_size_f\n",
    "        )\n",
    "    #detectMultiscale function returns a list of rectangles described by the upper left vertex and the two dimension\n",
    "    \n",
    "    #Drawing rectangles recognised by the detectMultiscale function\n",
    "    for (x, y, w, h) in faces:\n",
    "        cv2.rectangle(frame,(x, y), (x+w, y+h), (0, 255, 0), 2)\n",
    "        #Defining new regions of interest\n",
    "        roi_gray=gray[y:y+h/2,x:x+w]\n",
    "        roi_color=frame[y:y+h/2,x:x+w]\n",
    "        \n",
    "        #Using the cascade classifier to identify eyes within the new ROI just defined\n",
    "        eyes= eyeCascade.detectMultiScale(         \n",
    "        roi_gray,\n",
    "        scaleFactor=sc_fct,\n",
    "        minNeighbors=min_neigh,\n",
    "        minSize=min_size_e\n",
    "    )\n",
    "\n",
    "\n",
    "        #Drawing rectangles returned by the detectMultiscale function\n",
    "        for (ex, ey, ew, eh) in eyes:\n",
    "            cv2.rectangle(roi_color, (ex, ey), (ex+ew, ey+eh), (255, 191, 0), 2)\n",
    "            \n",
    "            #Defining new regions of interest   \n",
    "            roi_gray2=roi_gray[ey+(eh/4):ey+eh,ex:ex+ew]\n",
    "            roi_color2=roi_color[ey:ey+eh,ex:ex+ew]\n",
    "            \n",
    "            #Defining threshold values for image filtering (the value corresponds to a grey level)\n",
    "            lower = 0\n",
    "            upper = 70\n",
    "            \n",
    "            #Applying inRange funtction to pull out from the input image only the pixels that are included in this specific gray range \n",
    "            mask = cv2.inRange(roi_gray2, lower, upper)\n",
    "            #The output is an image where the elements, which are in the range, are shown in white, while everything else il black.  \n",
    "            \n",
    "            #Applying HoughCircles function to identify iris and pupil in the filtered image (HOUGH_GRADIENT is the method used)\n",
    "            circles = cv2.HoughCircles(mask,cv2.HOUGH_GRADIENT,dp=dp_c,minDist=mindist_c,\n",
    "                    param1=param1_c,param2=param2_c,minRadius=minr_c,maxRadius=maxr_c)\n",
    "            #The function returns a list of circles described by the centre coordinates and the radius\n",
    "            \n",
    "            #Checking validity of the detected objects\n",
    "            if(circles==None):\n",
    "                continue\n",
    "            else:\n",
    "            #Coverting floats to integers to make values usable by the circle function\n",
    "                circles = np.uint16(np.around(circles[0,:]))\n",
    "            \n",
    "            #Drawing identified circles in the video\n",
    "                for (x_c,y_c,r) in circles:\n",
    "                    cv2.circle(roi_color2,(x_c,y_c+int(eh/4)),r,(0,255,0),2)\n",
    "                    cv2.circle(roi_color2,(x_c,y_c+int(eh/4)),2,(0,0,255),3)\n",
    "                    \n",
    "                    #Plotting a scatterplot with the eyes pupils' position through time\n",
    "                    plt.scatter(x+ex+x_c,y+ey+y_c+int(eh/4), s=100, c='r',alpha=0.3)\n",
    "                    plt.axis([0,x_dim,0,y_dim])\n",
    "                    plt.draw()\n",
    "                \n",
    "                #Showing the filtered image and the webcam video\n",
    "                cv2.imshow('mask',mask)\n",
    "                cv2.imshow('EasEY TRACKING', frame)\n",
    "    #Breaking the while cicle when 'return' is pressed\n",
    "    if cv2.waitKey(1)==27:\n",
    "        break\n",
    "#Closing al windows and turning webcams off\n",
    "video_capture.release()\n",
    "cv2.destroyAllWindows()\n",
    "              "
   ]
  },
  {
   "cell_type": "code",
   "execution_count": null,
   "metadata": {
    "collapsed": true
   },
   "outputs": [],
   "source": []
  }
 ],
 "metadata": {
  "kernelspec": {
   "display_name": "Python 3",
   "language": "python",
   "name": "python3"
  },
  "language_info": {
   "codemirror_mode": {
    "name": "ipython",
    "version": 3
   },
   "file_extension": ".py",
   "mimetype": "text/x-python",
   "name": "python",
   "nbconvert_exporter": "python",
   "pygments_lexer": "ipython3",
   "version": "3.5.1"
  }
 },
 "nbformat": 4,
 "nbformat_minor": 0
}
