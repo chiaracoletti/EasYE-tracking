{
 "cells": [
  {
   "cell_type": "code",
   "execution_count": 1,
   "metadata": {
    "collapsed": false
   },
   "outputs": [
    {
     "name": "stderr",
     "output_type": "stream",
     "text": [
      "C:\\Users\\giada\\Anaconda3\\lib\\site-packages\\ipykernel\\__main__.py:32: DeprecationWarning: using a non-integer number instead of an integer will result in an error in the future\n",
      "C:\\Users\\giada\\Anaconda3\\lib\\site-packages\\ipykernel\\__main__.py:33: DeprecationWarning: using a non-integer number instead of an integer will result in an error in the future\n"
     ]
    }
   ],
   "source": [
    "import cv2\n",
    "import numpy as np\n",
    "\n",
    "\n",
    "faceCascade = cv2.CascadeClassifier(\"haarcascade_frontalface_default.xml\")\n",
    "eyeCascade=cv2.CascadeClassifier(\"haarcascade_eye.xml\")\n",
    "\n",
    "video_capture = cv2.VideoCapture(0)\n",
    "cv2.namedWindow(\"Face and eyes\")\n",
    "\n",
    "while True:\n",
    "    \n",
    "    ret, frame = video_capture.read()\n",
    "\n",
    "    gray = cv2.cvtColor(frame, cv2.COLOR_BGR2GRAY)\n",
    "    \n",
    "    \n",
    "   \n",
    "    \n",
    "\n",
    "    faces = faceCascade.detectMultiScale(       #ritorna lista di rettangoli\n",
    "        gray,\n",
    "        scaleFactor=1.1,\n",
    "        minNeighbors=5,\n",
    "        minSize=(30, 30)\n",
    "        )\n",
    "    \n",
    "     # Disegna un rettangolo attorno al volto\n",
    "    for (x, y, w, h) in faces:\n",
    "        cv2.rectangle(frame, (x, y), (x+w, y+h), (0, 255, 0), 2)\n",
    "        \n",
    "        roi_gray=gray[y:y+h/2,x:x+w]\n",
    "        roi_color=frame[y:y+h/2,x:x+w]\n",
    "        \n",
    "        circles = cv2.HoughCircles(roi_gray,cv2.HOUGH_GRADIENT,1,20,\n",
    "                            param1=50,param2=30,minRadius=0,maxRadius=0)\n",
    "    \n",
    "    \n",
    "        circles = np.uint16(np.around(circles))\n",
    "    \n",
    "        for i in circles[0,:]:\n",
    "                cv2.circle(roi_color,(i[0],i[1]),i[2],(0,255,0),2)\n",
    "                cv2.circle(roi_color,(i[0],i[1]),2,(0,0,255),3)\n",
    "            \n",
    "        \n",
    "        \n",
    "        \n",
    "        \n",
    "        \n",
    "        eyes= eyeCascade.detectMultiScale(         #ritorna lista di rettangoli\n",
    "        roi_gray,\n",
    "        scaleFactor=1.1,\n",
    "        minNeighbors=4,\n",
    "        minSize=(10, 10)\n",
    "    )\n",
    "\n",
    "\n",
    "                                                  # Disegna un rettangolo attorno agli occhi\n",
    "        for (ex, ey, ew, eh) in eyes:\n",
    "            cv2.rectangle(roi_color, (ex, ey), (ex+ew, ey+eh), (255, 191, 0), 2)\n",
    "            \n",
    "            roi_gray1=gray[ey:ey+eh,ex:ex+ew]\n",
    "            roi_color2=frame[ey:ey+eh,ex:ex+ew]\n",
    "            \n",
    "            \n",
    "            \n",
    "            \n",
    "            \n",
    "        \n",
    "            \n",
    "            \n",
    "            \n",
    "            \n",
    "\n",
    "    # Mostra il video finale\n",
    "    cv2.imshow('Face and eyes', frame)\n",
    "    if cv2.waitKey(1)==27:\n",
    "        break\n",
    "    \n",
    "\n",
    "video_capture.release()\n",
    "\n",
    "cv2.destroyAllWindows()\n"
   ]
  },
  {
   "cell_type": "code",
   "execution_count": null,
   "metadata": {
    "collapsed": true
   },
   "outputs": [],
   "source": []
  },
  {
   "cell_type": "code",
   "execution_count": null,
   "metadata": {
    "collapsed": true
   },
   "outputs": [],
   "source": []
  }
 ],
 "metadata": {
  "kernelspec": {
   "display_name": "Python 3",
   "language": "python",
   "name": "python3"
  },
  "language_info": {
   "codemirror_mode": {
    "name": "ipython",
    "version": 3
   },
   "file_extension": ".py",
   "mimetype": "text/x-python",
   "name": "python",
   "nbconvert_exporter": "python",
   "pygments_lexer": "ipython3",
   "version": "3.5.1"
  }
 },
 "nbformat": 4,
 "nbformat_minor": 0
}
