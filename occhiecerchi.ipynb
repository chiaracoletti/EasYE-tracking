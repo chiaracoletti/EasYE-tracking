{
 "cells": [
  {
   "cell_type": "code",
   "execution_count": 1,
   "metadata": {
    "collapsed": false
   },
   "outputs": [
    {
     "name": "stderr",
     "output_type": "stream",
     "text": [
      "/Users/Chiara/anaconda/lib/python3.5/site-packages/ipykernel/__main__.py:54: DeprecationWarning: using a non-integer number instead of an integer will result in an error in the future\n",
      "/Users/Chiara/anaconda/lib/python3.5/site-packages/ipykernel/__main__.py:55: DeprecationWarning: using a non-integer number instead of an integer will result in an error in the future\n",
      "/Users/Chiara/anaconda/lib/python3.5/site-packages/ipykernel/__main__.py:81: FutureWarning: comparison to `None` will result in an elementwise object comparison in the future.\n"
     ]
    },
    {
     "data": {
      "image/png": "[encoded data removed]",
      "text/plain": [
       "<matplotlib.figure.Figure at 0x10efbc470>"
      ]
     },
     "metadata": {},
     "output_type": "display_data"
    }
   ],
   "source": [
    "%matplotlib inline\n",
    "import matplotlib.pyplot as plt\n",
    "\n",
    "import cv2\n",
    "import numpy as np\n",
    "\n",
    "#Taratura parametri:\n",
    "sc_fct = 1.1              #parametro che specifica di che fattore viene ridotta l'immagine ad ogni ridimensionamento.\n",
    "min_neigh = 5             #parametro che indica il minimo numero di oggetti che devono essere riconosciuti vicino ad un candidato oggetto per identificarlo come tale.\n",
    "min_size_f = (30,30)      #parametro che indica le minime dimensioni che il rettangolo deve avere per essere identificato come volto.\n",
    "min_size_e = (10,10)      #parametro che indica le dimensioni minime che deve avere un rettangolo per essere identificato come occhio.\n",
    "#max_size' è il parametro che indica la massime dimensioni che può avere un rettangolo per essere identificato come volto.\n",
    "#Abbiamo deciso di non utilizzarlo perchè non sappiamo quanto l'utente possa essere distante dalla telecamera.\n",
    "dp_c=1                   #parametro che indica la risoluzione dell'accumulatore. Se 1, l'accumulatore ha la stessa risoluzione \n",
    "#dell'immagine in input\n",
    "mindist_c=40             #parametro che indica la minima distanza tra centri dei cerchi riconosciuti.\n",
    "param1_c=50              #primo parametro specifico per il metodo di riconoscimento utilizzato.\n",
    "param2_c=30              #secondo parametro specifico per il metodo di riconoscimento utilizzato.\n",
    "minr_c=15                 #parametro che indica il minimo raggio del cerchio.\n",
    "maxr_c=0                 #parametro che indica il massimo raggio del cerchio.\n",
    "\n",
    "\n",
    "\n",
    "#importiamo file cascades\n",
    "faceCascade = cv2.CascadeClassifier(\"haarcascade_frontalface_default.xml\")\n",
    "eyeCascade=cv2.CascadeClassifier(\"haarcascade_eye.xml\")\n",
    "\n",
    "#acquisiamo il video dalla webcam e rinominiamo la finestra video\n",
    "video_capture = cv2.VideoCapture(0)\n",
    "cv2.namedWindow(\"Face and eyes\")\n",
    "x_dim=video_capture.get(3)\n",
    "y_dim=video_capture.get(4)\n",
    "\n",
    "while True:\n",
    "    #catturiamo frame da video\n",
    "    ret, frame = video_capture.read()\n",
    "    #convertiamo i frame in scale di grigio\n",
    "    if frame.shape:\n",
    "        gray = cv2.cvtColor(frame, cv2.COLOR_BGR2GRAY)\n",
    "    \n",
    "    #applichiamo la cascade per il riconoscimento del volto\n",
    "        faces = faceCascade.detectMultiScale(       \n",
    "        gray,\n",
    "        scaleFactor=sc_fct,\n",
    "        minNeighbors=min_neigh,\n",
    "        minSize=min_size_f\n",
    "        )\n",
    "    #La funzione 'detectMultiScale' ritorna una lista di rettangoli identificati da coordinate del vertice superiore sinistro e dimensioni di base e altezza.\n",
    "    \n",
    "    # Disegnamo nella finestra video rettangoli attorno ai volti riconosciuti dalla funzione 'detectMultiscale'.\n",
    "        for (x, y, w, h) in faces:\n",
    "            cv2.rectangle(frame,(x, y), (x+w, y+h), (0, 255, 0), 2)\n",
    "        #Definiamo nuove regioni di interesse, limitate alla metà superiore dei volti.\n",
    "            roi_gray=gray[y:y+h/2,x:x+w]\n",
    "            roi_color=frame[y:y+h/2,x:x+w]\n",
    "        \n",
    "        #Applichiamo la cascade per il riconoscimento degli occhi soltanto alla regione di interesse sopra definita.\n",
    "            eyes= eyeCascade.detectMultiScale(         \n",
    "        roi_gray,\n",
    "        scaleFactor=sc_fct,\n",
    "        minNeighbors=min_neigh,\n",
    "        minSize=min_size_e\n",
    "    )\n",
    "\n",
    "\n",
    "        # Disegnamo rettangoli attorno agli occhi.\n",
    "            for (ex, ey, ew, eh) in eyes:\n",
    "                cv2.rectangle(roi_color, (ex, ey), (ex+ew, ey+eh), (255, 191, 0), 2)\n",
    "            \n",
    "            #Definiamo nuove regioni di interesse, limitate all'area degli occhi.\n",
    "                roi_gray2=roi_gray[ey:ey+eh,ex:ex+ew]\n",
    "                roi_color2=roi_color[ey:ey+eh,ex:ex+ew]\n",
    "                \n",
    "            #Applichiamo la funzione 'HoughCircles' per il riconoscimento di cerchi all'interno dell'area sopra definita.\n",
    "                circles = cv2.HoughCircles(roi_gray2,cv2.HOUGH_GRADIENT,dp=dp_c,minDist=mindist_c,\n",
    "                            param1=param1_c,param2=param2_c,minRadius=minr_c,maxRadius=maxr_c)\n",
    "                #La funzione 'HoughCircles' ha il compito di cercare cerchi nelle immagini in scala di grigi.\n",
    "                #Il primo parametro è l'immagine input in scala di grigi. Nel nostro caso ricerchiamo i cerchi solo nella zone degli occhi.\n",
    "                #Il secondo parametro indica il metodo di riconoscimento utilizzato.\n",
    "                \n",
    "                if(circles==None):\n",
    "                    continue\n",
    "                else:\n",
    "            #Convertiamo i valori (float) restituiti dalla funzione 'HoughCircles' in interi dopo averli arrotondati, permettendoci di diegnare i cerchi sull'immagine.\n",
    "                  circles = np.uint16(np.around(circles))\n",
    "            \n",
    "            #Disegnamo i cerchi idetificati e il loro centro sull'immagine output.\n",
    "                  for i in circles[0,:]:\n",
    "                    cv2.circle(roi_color2,(i[0],i[1]),i[2],(0,255,0),2)\n",
    "                    cv2.circle(roi_color2,(i[0],i[1]),2,(0,0,255),3)\n",
    "                    \n",
    "                    \n",
    "                    plt.scatter(x+ex+i[0],y+ey+i[1], s=100, c='r',alpha=0.3)\n",
    "                    plt.axis([0,x_dim,0,y_dim])\n",
    "                    plt.draw()\n",
    "            \n",
    "\n",
    "    # Mostriamo il video opportunamente modificato finchè l'utente non preme 'esc'.\n",
    "    cv2.imshow('Face and eyes', frame)\n",
    "    if cv2.waitKey(1)==27:\n",
    "        break\n",
    "    \n",
    "#Al termine dell'esecuzione del programma interrompiamo l'acquisizione video e chiudiamo le finestre grafiche.\n",
    "video_capture.release()\n",
    "cv2.destroyAllWindows()\n"
   ]
  },
  {
   "cell_type": "markdown",
   "metadata": {},
   "source": [
    "# eyedetection"
   ]
  }
 ],
 "metadata": {
  "kernelspec": {
   "display_name": "Python 3",
   "language": "python",
   "name": "python3"
  },
  "language_info": {
   "codemirror_mode": {
    "name": "ipython",
    "version": 3
   },
   "file_extension": ".py",
   "mimetype": "text/x-python",
   "name": "python",
   "nbconvert_exporter": "python",
   "pygments_lexer": "ipython3",
   "version": "3.5.1"
  }
 },
 "nbformat": 4,
 "nbformat_minor": 0
}
