{
 "cells": [
  {
   "cell_type": "code",
   "execution_count": 1,
   "metadata": {
    "collapsed": false
   },
   "outputs": [
    {
     "data": {
      "image/png": "[encoded data removed]",
      "text/plain": [
       "<matplotlib.figure.Figure at 0x270a5a3a518>"
      ]
     },
     "metadata": {},
     "output_type": "display_data"
    },
    {
     "ename": "TypeError",
     "evalue": "'NoneType' object is not iterable",
     "output_type": "error",
     "traceback": [
      "\u001b[1;31m---------------------------------------------------------------------------\u001b[0m",
      "\u001b[1;31mTypeError\u001b[0m                                 Traceback (most recent call last)",
      "\u001b[1;32m<ipython-input-1-dea507884ee7>\u001b[0m in \u001b[0;36m<module>\u001b[1;34m()\u001b[0m\n\u001b[0;32m     95\u001b[0m                     \u001b[0mcv2\u001b[0m\u001b[1;33m.\u001b[0m\u001b[0mimshow\u001b[0m\u001b[1;33m(\u001b[0m\u001b[1;34m'mask'\u001b[0m\u001b[1;33m,\u001b[0m\u001b[0mmask\u001b[0m\u001b[1;33m)\u001b[0m\u001b[1;33m\u001b[0m\u001b[0m\n\u001b[0;32m     96\u001b[0m \u001b[1;33m\u001b[0m\u001b[0m\n\u001b[1;32m---> 97\u001b[1;33m                     \u001b[0mx_m\u001b[0m\u001b[1;33m,\u001b[0m\u001b[0my_m\u001b[0m\u001b[1;33m=\u001b[0m\u001b[0mcalc_mean\u001b[0m\u001b[1;33m(\u001b[0m\u001b[0mmask\u001b[0m\u001b[1;33m)\u001b[0m\u001b[1;33m\u001b[0m\u001b[0m\n\u001b[0m\u001b[0;32m     98\u001b[0m                     \u001b[0mleds_on\u001b[0m\u001b[1;33m(\u001b[0m\u001b[0mx_m\u001b[0m\u001b[1;33m,\u001b[0m\u001b[0my_m\u001b[0m\u001b[1;33m,\u001b[0m\u001b[0mew\u001b[0m\u001b[1;33m,\u001b[0m\u001b[0meh\u001b[0m\u001b[1;33m)\u001b[0m\u001b[1;33m\u001b[0m\u001b[0m\n\u001b[0;32m     99\u001b[0m \u001b[1;33m\u001b[0m\u001b[0m\n",
      "\u001b[1;31mTypeError\u001b[0m: 'NoneType' object is not iterable"
     ]
    }
   ],
   "source": [
    "%matplotlib inline\n",
    "import cv2\n",
    "import numpy as np\n",
    "import matplotlib.pyplot as plt\n",
    "from IPython import display\n",
    "\n",
    "\n",
    "\n",
    "sc_fct = 1.1             \n",
    "min_neigh = 5              \n",
    "min_size_f = (30,30)      \n",
    "min_size_e = (10,10)      \n",
    "global col\n",
    "col=['w','w','w','w']\n",
    "\n",
    "def calc_mean(matr):\n",
    "    cont=0\n",
    "    a=0\n",
    "    b=0\n",
    "    for i in range(0,ew):\n",
    "        for j in range(0,eh):\n",
    "            if mask[i][j]==255:\n",
    "                a=a+i;\n",
    "                b=b+j;\n",
    "                cont=cont+1;\n",
    "    if cont>0:\n",
    "        c=float(a/cont)\n",
    "        d=float(b/cont)\n",
    "        return c,d\n",
    "\n",
    "def leds_on(x_m,y_m,ew,eh):\n",
    "    if (x_m>ew/2):\n",
    "        col[3]='g'\n",
    "        col[0]='w'\n",
    "    else:\n",
    "        col[0]='g'\n",
    "        col[3]='w'\n",
    "    if (y_m>eh/2):\n",
    "        col[2]='g'\n",
    "        col[1]='w'\n",
    "    else:\n",
    "        col[1]='g'\n",
    "        col[2]='w'\n",
    "    \n",
    "    \n",
    "    \n",
    "faceCascade = cv2.CascadeClassifier(\"haarcascade_frontalface_default.xml\")\n",
    "eyeCascade=cv2.CascadeClassifier(\"haarcascade_eye.xml\")\n",
    "\n",
    "\n",
    "video_capture = cv2.VideoCapture(0)\n",
    "cv2.namedWindow(\"Face and eyes\")\n",
    "\n",
    "while True:\n",
    "    \n",
    "    ret, frame = video_capture.read()\n",
    "    \n",
    "    gray = cv2.cvtColor(frame, cv2.COLOR_BGR2GRAY)\n",
    "    \n",
    "    faces = faceCascade.detectMultiScale(       \n",
    "        gray,\n",
    "        scaleFactor=sc_fct,\n",
    "        minNeighbors=min_neigh,\n",
    "        minSize=min_size_f\n",
    "        )\n",
    "\n",
    "    \n",
    " \n",
    "    for (x, y, w, h) in faces:\n",
    "            cv2.rectangle(frame,(x, y), (x+w, y+h), (0, 255, 0), 2)\n",
    "            \n",
    "            roi_gray=gray[y:y+h/2,x:x+w]\n",
    "            roi_color=frame[y:y+h/2,x:x+w]\n",
    "            \n",
    "            \n",
    "            \n",
    "            eyes= eyeCascade.detectMultiScale(         \n",
    "                roi_gray,\n",
    "                scaleFactor=sc_fct,\n",
    "                minNeighbors=min_neigh,\n",
    "                minSize=min_size_e\n",
    "                )\n",
    "            \n",
    "            for (ex, ey, ew, eh) in eyes:\n",
    "                    cv2.rectangle(roi_color, (ex, ey), (ex+ew, ey+eh), (255, 191, 0), 2)\n",
    "                 \n",
    "                \n",
    "                    roi_gray2=roi_gray[ey:ey+eh,ex:ex+ew]\n",
    "                \n",
    "                    lower=np.array([0])\n",
    "                    upper=np.array([80])\n",
    "                \n",
    "                    mask = cv2.inRange(roi_gray2, lower, upper)\n",
    "                    \n",
    "                    cv2.imshow('mask',mask)\n",
    "                        \n",
    "                    x_m,y_m=calc_mean(mask)\n",
    "                    leds_on(x_m,y_m,ew,eh)\n",
    "                    \n",
    "    display.clear_output(wait=True)               \n",
    "    plt.scatter([-1,0,0,1],[0,1,-1,0],s=800,c=col)\n",
    "    plt.axis([-2,2,-2,2])\n",
    "    plt.xlabel('left/right')\n",
    "    plt.ylabel('up/down')\n",
    "    plt.show()   \n",
    "    cv2.imshow(\"Face and eyes\", frame)\n",
    "                \n",
    "                \n",
    "                \n",
    "    if cv2.waitKey(1)==27:\n",
    "        break\n",
    "              \n",
    "            \n",
    "\n",
    "video_capture.release()\n",
    "cv2.destroyAllWindows()"
   ]
  },
  {
   "cell_type": "code",
   "execution_count": null,
   "metadata": {
    "collapsed": true
   },
   "outputs": [],
   "source": []
  },
  {
   "cell_type": "code",
   "execution_count": null,
   "metadata": {
    "collapsed": true
   },
   "outputs": [],
   "source": []
  }
 ],
 "metadata": {
  "kernelspec": {
   "display_name": "Python 3",
   "language": "python",
   "name": "python3"
  },
  "language_info": {
   "codemirror_mode": {
    "name": "ipython",
    "version": 3
   },
   "file_extension": ".py",
   "mimetype": "text/x-python",
   "name": "python",
   "nbconvert_exporter": "python",
   "pygments_lexer": "ipython3",
   "version": "3.5.1"
  }
 },
 "nbformat": 4,
 "nbformat_minor": 0
}
